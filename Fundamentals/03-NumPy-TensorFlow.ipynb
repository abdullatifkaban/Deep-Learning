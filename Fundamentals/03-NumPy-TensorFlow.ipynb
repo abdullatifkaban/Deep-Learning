{
 "cells": [
  {
   "cell_type": "markdown",
   "id": "0d5c1c03",
   "metadata": {},
   "source": [
    "\n",
    "# NumPy ve TensorFlow ile Temel İşlemler\n",
    "\n",
    "Bu notebook'ta, tensör işlemlerini gerçekleştirmek için iki popüler kütüphaneyi keşfedeceğiz:\n",
    "- **NumPy:** Python'da sayısal hesaplamalar için bir kütüphane.\n",
    "- **TensorFlow:** Makine öğrenimi için uçtan uca açık kaynaklı bir platform.\n",
    "\n",
    "İçerik:\n",
    "1. Tensör oluşturma\n",
    "2. Temel işlemler (toplama, çarpma, yeniden şekillendirme)\n",
    "3. TensorFlow ile gradyan hesaplamaları\n"
   ]
  },
  {
   "cell_type": "markdown",
   "id": "7cb5b028",
   "metadata": {},
   "source": [
    "\n",
    "## 1. NumPy ile Tensör İşlemleri\n",
    "\n",
    "NumPy, tensör işlemleri için güçlü bir kütüphanedir. Aşağıda, NumPy kullanarak tensörlerin oluşturulması ve manipüle edilmesine yönelik bazı örnekler verilmiştir.\n"
   ]
  },
  {
   "cell_type": "code",
   "execution_count": 1,
   "id": "a8ae2d01",
   "metadata": {},
   "outputs": [
    {
     "name": "stdout",
     "output_type": "stream",
     "text": [
      "Tensor 1:\n",
      "[[1 2]\n",
      " [3 4]]\n",
      "\n",
      "Tensor 2:\n",
      "[[5 6]\n",
      " [7 8]]\n"
     ]
    }
   ],
   "source": [
    "import warnings\n",
    "warnings.filterwarnings(\"ignore\")\n",
    "\n",
    "import numpy as np\n",
    "\n",
    "# Önce tensör oluşturalım\n",
    "tensor_1 = np.array([[1, 2], [3, 4]])\n",
    "tensor_2 = np.array([[5, 6], [7, 8]])\n",
    "\n",
    "print(\"Tensor 1:\")\n",
    "print(tensor_1)\n",
    "\n",
    "print(\"\\nTensor 2:\")\n",
    "print(tensor_2)"
   ]
  },
  {
   "cell_type": "code",
   "execution_count": 2,
   "id": "93261af1",
   "metadata": {},
   "outputs": [
    {
     "name": "stdout",
     "output_type": "stream",
     "text": [
      "\\Toplam Tensörü:\n",
      "[[ 6  8]\n",
      " [10 12]]\n"
     ]
    }
   ],
   "source": [
    "# Toplama\n",
    "added_tensors = tensor_1 + tensor_2\n",
    "print(\"\\Toplam Tensörü:\")\n",
    "print(added_tensors)"
   ]
  },
  {
   "cell_type": "code",
   "execution_count": 3,
   "id": "5ffb87f4",
   "metadata": {},
   "outputs": [
    {
     "name": "stdout",
     "output_type": "stream",
     "text": [
      "\\Eleman Bazlı Çarpım Tensörü:\n",
      "[[ 5 12]\n",
      " [21 32]]\n"
     ]
    }
   ],
   "source": [
    "# Eleman bazlı çarpım\n",
    "multiplied_tensors = tensor_1 * tensor_2\n",
    "print(\"\\Eleman Bazlı Çarpım Tensörü:\")\n",
    "print(multiplied_tensors)"
   ]
  },
  {
   "cell_type": "code",
   "execution_count": 4,
   "id": "84e99d46",
   "metadata": {},
   "outputs": [
    {
     "name": "stdout",
     "output_type": "stream",
     "text": [
      "\n",
      "Matris Çarpımı:\n",
      "[[19 22]\n",
      " [43 50]]\n"
     ]
    }
   ],
   "source": [
    "# Matris çarpımı\n",
    "matmul_tensors = np.dot(tensor_1, tensor_2)\n",
    "print(\"\\nMatris Çarpımı:\")\n",
    "print(matmul_tensors)"
   ]
  },
  {
   "cell_type": "markdown",
   "id": "68968e66",
   "metadata": {},
   "source": [
    "**Matris Çarpımı**\n",
    "İlk satır, ilk matrisin (tensor_1) satırları ile ikinci matrisin (tensor_2) sütunları çarpılır:\n",
    "* (1×5)+(2×7)=5+14=19(1×5)+(2×7)=5+14=19\n",
    "* (1×6)+(2×8)=6+16=22(1×6)+(2×8)=6+16=22\n",
    "\n",
    "İkinci satır için:\n",
    "* (3×5)+(4×7)=15+28=43(3×5)+(4×7)=15+28=43\n",
    "* (3×6)+(4×8)=18+32=50(3×6)+(4×8)=18+32=50"
   ]
  },
  {
   "cell_type": "code",
   "execution_count": 5,
   "id": "b60d6a1e",
   "metadata": {},
   "outputs": [
    {
     "name": "stdout",
     "output_type": "stream",
     "text": [
      "\n",
      "Reshaped Tensor:\n",
      "[[1]\n",
      " [2]\n",
      " [3]\n",
      " [4]]\n"
     ]
    }
   ],
   "source": [
    "# Reshaping a tensor\n",
    "reshaped_tensor = tensor_1.reshape(4, 1)\n",
    "print(\"\\nReshaped Tensor:\")\n",
    "print(reshaped_tensor)"
   ]
  },
  {
   "cell_type": "markdown",
   "id": "99d26e2b",
   "metadata": {},
   "source": [
    "\n",
    "## 2. TensorFlow ile Tensör İşlemleri\n",
    "\n",
    "TensorFlow, tensör hesaplamaları için araçlar sağlar. Aşağıda, TensorFlow kullanılarak gerçekleştirilen temel işlemlere bazı örnekler verilmiştir.\n"
   ]
  },
  {
   "cell_type": "code",
   "execution_count": 7,
   "id": "418137d1",
   "metadata": {},
   "outputs": [
    {
     "name": "stdout",
     "output_type": "stream",
     "text": [
      "Tensor A:\n",
      "tf.Tensor(\n",
      "[[1. 2.]\n",
      " [3. 4.]], shape=(2, 2), dtype=float32)\n",
      "\n",
      "Tensor B:\n",
      "tf.Tensor(\n",
      "[[5. 6.]\n",
      " [7. 8.]], shape=(2, 2), dtype=float32)\n"
     ]
    }
   ],
   "source": [
    "\n",
    "import tensorflow as tf\n",
    "\n",
    "# Creating tensors\n",
    "tensor_a = tf.constant([[1, 2], [3, 4]], dtype=tf.float32)\n",
    "tensor_b = tf.constant([[5, 6], [7, 8]], dtype=tf.float32)\n",
    "\n",
    "print(\"Tensor A:\")\n",
    "print(tensor_a)\n",
    "\n",
    "print(\"\\nTensor B:\")\n",
    "print(tensor_b)"
   ]
  },
  {
   "cell_type": "code",
   "execution_count": 8,
   "id": "c2166ecb",
   "metadata": {},
   "outputs": [
    {
     "name": "stdout",
     "output_type": "stream",
     "text": [
      "\\Toplama Tensörü (TensorFlow):\n",
      "tf.Tensor(\n",
      "[[ 6.  8.]\n",
      " [10. 12.]], shape=(2, 2), dtype=float32)\n"
     ]
    }
   ],
   "source": [
    "# Toplama\n",
    "added_tensors_tf = tf.add(tensor_a, tensor_b)\n",
    "print(\"\\Toplama Tensörü (TensorFlow):\")\n",
    "print(added_tensors_tf)"
   ]
  },
  {
   "cell_type": "code",
   "execution_count": 9,
   "id": "96223c26",
   "metadata": {},
   "outputs": [
    {
     "name": "stdout",
     "output_type": "stream",
     "text": [
      "\n",
      "Eleman Bazlı Çarpım Tensörü (TensorFlow):\n",
      "tf.Tensor(\n",
      "[[ 5. 12.]\n",
      " [21. 32.]], shape=(2, 2), dtype=float32)\n"
     ]
    }
   ],
   "source": [
    "# Eleman bazlı çarpım\n",
    "multiplied_tensors_tf = tf.multiply(tensor_a, tensor_b)\n",
    "print(\"\\nEleman Bazlı Çarpım Tensörü (TensorFlow):\")\n",
    "print(multiplied_tensors_tf)"
   ]
  },
  {
   "cell_type": "code",
   "execution_count": 10,
   "id": "6f96d323",
   "metadata": {},
   "outputs": [
    {
     "name": "stdout",
     "output_type": "stream",
     "text": [
      "\n",
      "Matris Çarpım Tensörü (TensorFlow):\n",
      "tf.Tensor(\n",
      "[[19. 22.]\n",
      " [43. 50.]], shape=(2, 2), dtype=float32)\n"
     ]
    }
   ],
   "source": [
    "# Matris Çarpımı\n",
    "matmul_tensors_tf = tf.matmul(tensor_a, tensor_b)\n",
    "print(\"\\nMatris Çarpım Tensörü (TensorFlow):\")\n",
    "print(matmul_tensors_tf)"
   ]
  },
  {
   "cell_type": "code",
   "execution_count": 11,
   "id": "8e497c3a",
   "metadata": {},
   "outputs": [
    {
     "name": "stdout",
     "output_type": "stream",
     "text": [
      "\n",
      "Karelerin türev toplamları:\n",
      "tf.Tensor(\n",
      "[[2. 4.]\n",
      " [6. 8.]], shape=(2, 2), dtype=float32)\n"
     ]
    }
   ],
   "source": [
    "# Gradient hesaplama\n",
    "with tf.GradientTape() as tape:\n",
    "    tape.watch(tensor_a)\n",
    "    result = tf.reduce_sum(tensor_a * tensor_a)\n",
    "gradient = tape.gradient(result, tensor_a)\n",
    "print(\"\\nKarelerin türev toplamları:\")\n",
    "print(gradient)"
   ]
  },
  {
   "cell_type": "markdown",
   "id": "b8d1f970",
   "metadata": {},
   "source": [
    "\n",
    "## Sonuç\n",
    "\n",
    "Bu notebook'ta, NumPy ve TensorFlow kullanarak temel tensör işlemlerini inceledik. Bu araçlar, makine öğrenimi ve derin öğrenmedeki daha ileri düzey hesaplamalar için temel oluşturur. Özellikle TensorFlow'un gradyan hesaplayabilme yeteneği, sinir ağlarının oluşturulması ve eğitimi açısından oldukça güçlüdür.\n",
    "\n",
    "Daha fazla öğrenmek için:\n",
    "- [NumPy dökümantasyonuna](https://numpy.org/doc/) göz atabilirsiniz.\n",
    "- [TensorFlow eğitimlerine](https://www.tensorflow.org/tutorials) göz atabilirsiniz.\n"
   ]
  }
 ],
 "metadata": {
  "kernelspec": {
   "display_name": "base",
   "language": "python",
   "name": "python3"
  },
  "language_info": {
   "codemirror_mode": {
    "name": "ipython",
    "version": 3
   },
   "file_extension": ".py",
   "mimetype": "text/x-python",
   "name": "python",
   "nbconvert_exporter": "python",
   "pygments_lexer": "ipython3",
   "version": "3.12.7"
  }
 },
 "nbformat": 4,
 "nbformat_minor": 5
}
